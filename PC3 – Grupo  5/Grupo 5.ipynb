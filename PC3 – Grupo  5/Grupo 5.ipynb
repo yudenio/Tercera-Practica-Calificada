{
 "cells": [
  {
   "cell_type": "code",
   "execution_count": 1,
   "metadata": {},
   "outputs": [
    {
     "data": {
      "text/plain": [
       "str"
      ]
     },
     "execution_count": 1,
     "metadata": {},
     "output_type": "execute_result"
    }
   ],
   "source": [
    "import requests\n",
    "\n",
    "url = \"https://daily-atmosphere-carbon-dioxide-concentration.p.rapidapi.com/api/co2-api\"\n",
    "\n",
    "headers = {\n",
    "\t\"X-RapidAPI-Key\": \"5980bde7demsh0f3bb48dde1477cp1c5bcbjsn016489ad3762\",\n",
    "\t\"X-RapidAPI-Host\": \"daily-atmosphere-carbon-dioxide-concentration.p.rapidapi.com\"\n",
    "}\n",
    "\n",
    "response = requests.request(\"GET\", url, headers=headers)\n",
    "\n",
    "#print(response.text)\n",
    "#print(response.json())\n",
    "data=response.text\n",
    "#print(data)\n",
    "type(data)"
   ]
  },
  {
   "cell_type": "code",
   "execution_count": 2,
   "metadata": {},
   "outputs": [],
   "source": [
    "#print(response.json()) #Vemos la data obtenida.\n",
    "test = response.json() #Lo guardamos en la variable test.\n",
    "#print(type(test))\n",
    "keys= test.keys()\n",
    "#print(keys)"
   ]
  },
  {
   "cell_type": "code",
   "execution_count": 3,
   "metadata": {},
   "outputs": [
    {
     "name": "stdout",
     "output_type": "stream",
     "text": [
      "      year month day   cycle   trend\n",
      "0     2013     1  20  395.64  394.41\n",
      "1     2013     1  21  395.67  394.41\n",
      "2     2013     1  22  395.70  394.42\n",
      "3     2013     1  23  395.73  394.43\n",
      "4     2013     1  24  395.75  394.44\n",
      "...    ...   ...  ..     ...     ...\n",
      "3637  2023     1   5  419.37  418.26\n",
      "3638  2023     1   6  419.40  418.27\n",
      "3639  2023     1   7  419.42  418.28\n",
      "3640  2023     1   8  419.44  418.28\n",
      "3641  2023     1   9  419.47  418.29\n",
      "\n",
      "[3642 rows x 5 columns]\n"
     ]
    },
    {
     "data": {
      "text/plain": [
       "['year', 'month', 'day', 'cycle', 'trend']"
      ]
     },
     "execution_count": 3,
     "metadata": {},
     "output_type": "execute_result"
    }
   ],
   "source": [
    "import unittest\n",
    "import pandas as pd\n",
    "df=pd.DataFrame(test['co2'])\n",
    "print(df)\n",
    "list(df.columns)"
   ]
  },
  {
   "cell_type": "code",
   "execution_count": 4,
   "metadata": {},
   "outputs": [
    {
     "name": "stdout",
     "output_type": "stream",
     "text": [
      "      year month day   cycle   trend\n",
      "0     2013     1  20  395.64  394.41\n",
      "1     2013     1  21  395.67  394.41\n",
      "2     2013     1  22  395.70  394.42\n",
      "3     2013     1  23  395.73  394.43\n",
      "4     2013     1  24  395.75  394.44\n",
      "...    ...   ...  ..     ...     ...\n",
      "3637  2023     1   5  419.37  418.26\n",
      "3638  2023     1   6  419.40  418.27\n",
      "3639  2023     1   7  419.42  418.28\n",
      "3640  2023     1   8  419.44  418.28\n",
      "3641  2023     1   9  419.47  418.29\n",
      "\n",
      "[3642 rows x 5 columns]\n"
     ]
    },
    {
     "data": {
      "text/plain": [
       "pandas.core.frame.DataFrame"
      ]
     },
     "execution_count": 4,
     "metadata": {},
     "output_type": "execute_result"
    }
   ],
   "source": [
    "col_name=['year',\n",
    " 'month',\n",
    " 'day','cycle','trend']\n",
    "C=pd.DataFrame(test['co2'],columns=col_name)\n",
    "#df.drop(['year'], axis=1)\n",
    "print(C)\n",
    "type(C)"
   ]
  },
  {
   "cell_type": "code",
   "execution_count": 5,
   "metadata": {},
   "outputs": [
    {
     "name": "stdout",
     "output_type": "stream",
     "text": [
      "       año  mes  dia   ciclo  tendencia\n",
      "0     2013    1   20  395.64     394.41\n",
      "1     2013    1   21  395.67     394.41\n",
      "2     2013    1   22  395.70     394.42\n",
      "3     2013    1   23  395.73     394.43\n",
      "4     2013    1   24  395.75     394.44\n",
      "...    ...  ...  ...     ...        ...\n",
      "3637  2023    1    5  419.37     418.26\n",
      "3638  2023    1    6  419.40     418.27\n",
      "3639  2023    1    7  419.42     418.28\n",
      "3640  2023    1    8  419.44     418.28\n",
      "3641  2023    1    9  419.47     418.29\n",
      "\n",
      "[3642 rows x 5 columns]\n"
     ]
    }
   ],
   "source": [
    "C.to_csv('pc-3.csv', index=False,encoding='utf-8-sig',\n",
    "          header = ['año','mes', 'dia', 'ciclo','tendencia'])\n",
    "c_read = pd.read_csv('pc-3.csv')\n",
    "print(c_read)"
   ]
  },
  {
   "attachments": {},
   "cell_type": "markdown",
   "metadata": {},
   "source": [
    "# Descripción de parámetros\n",
    "Ciclo y tendencia estacional global global estimado de CO2 ( ppm ).  \n",
    "El ciclo estacional global diario estimado y el valor de tendencia para el CO2 se determinan a partir de los datos de CO2 promediados diariamente de los cuatro observatorios de referencia de NOAA GML. Se determina un ciclo estacional suavizado y una curva de tendencia desestacionalizada suavizada para cada registro del observatorio a intervalos diarios. Se calcula un ciclo y una tendencia estacional global estimados promediando el ciclo estacional de cuatro observatorios individuales y las curvas de tendencia en cada intervalo diario.  \n",
    "Para obtener detalles sobre el proceso de ajuste de la curva, consulte\n",
    "https://www.esrl.noaa.gov/gmd/ccgg/mbl/crvfit/crvfit.html  \n",
    "El CO2 se expresa como una fracción molar en aire seco, micromol / mol, abreviado como ppm  \n",
    "NOTA: En general, los datos presentados para el último año están sujetos a cambios, dependiendo de la recalibración de las mezclas de gases de referencia utilizadas y otros procedimientos de control de calidad. Ocasionalmente, los años anteriores también pueden cambiarse por las mismas razones. Por lo general, estos cambios son menores."
   ]
  }
 ],
 "metadata": {
  "kernelspec": {
   "display_name": "base",
   "language": "python",
   "name": "python3"
  },
  "language_info": {
   "codemirror_mode": {
    "name": "ipython",
    "version": 3
   },
   "file_extension": ".py",
   "mimetype": "text/x-python",
   "name": "python",
   "nbconvert_exporter": "python",
   "pygments_lexer": "ipython3",
   "version": "3.9.7"
  },
  "orig_nbformat": 4,
  "vscode": {
   "interpreter": {
    "hash": "cb873405616b90249736f508600052d97939cff5d91c8aef713f3e3a6788ce3b"
   }
  }
 },
 "nbformat": 4,
 "nbformat_minor": 2
}
